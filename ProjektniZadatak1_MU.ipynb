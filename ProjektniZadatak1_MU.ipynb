{
  "cells": [
    {
      "cell_type": "markdown",
      "metadata": {
        "id": "view-in-github",
        "colab_type": "text"
      },
      "source": [
        "<a href=\"https://colab.research.google.com/github/selmakurtovic4/MUDataset/blob/main/ProjektniZadatak1_MU.ipynb\" target=\"_parent\"><img src=\"https://colab.research.google.com/assets/colab-badge.svg\" alt=\"Open In Colab\"/></a>"
      ]
    },
    {
      "cell_type": "markdown",
      "metadata": {
        "id": "tq9tgPoxhWNb"
      },
      "source": [
        "Machine Learning Project"
      ]
    },
    {
      "cell_type": "code",
      "execution_count": null,
      "metadata": {
        "id": "idAsIWfx2KT1"
      },
      "outputs": [],
      "source": [
        "import numpy as np\n",
        "import pandas as pd\n",
        "import matplotlib.pyplot as plt\n",
        "import seaborn as sns"
      ]
    },
    {
      "cell_type": "markdown",
      "metadata": {
        "id": "VhFudo4GhGgD"
      },
      "source": [
        "Data Analysis"
      ]
    },
    {
      "cell_type": "code",
      "execution_count": null,
      "metadata": {
        "id": "mdoYSCx8mUBj"
      },
      "outputs": [],
      "source": [
        "from google.colab import drive\n",
        "drive.mount('/content/drive', force_remount=True)\n",
        "df = pd.read_csv('/content/drive/My Drive/MU/creditscore_dataset.csv')"
      ]
    },
    {
      "cell_type": "markdown",
      "metadata": {
        "id": "qGPzxnbnmdTk"
      },
      "source": [
        "Github:"
      ]
    },
    {
      "cell_type": "code",
      "execution_count": null,
      "metadata": {
        "id": "QphYpluXj8ny"
      },
      "outputs": [],
      "source": [
        "import os\n",
        "!git clone https://github.com/selmakurtovic4/MUDataset.git\n",
        "os.chdir('/content/MUDataset')"
      ]
    },
    {
      "cell_type": "code",
      "execution_count": null,
      "metadata": {
        "id": "GrXcKJPsFt7N"
      },
      "outputs": [],
      "source": [
        "!unzip creditscore_dataset.zip"
      ]
    },
    {
      "cell_type": "code",
      "execution_count": null,
      "metadata": {
        "id": "_LWldbhMFxo-"
      },
      "outputs": [],
      "source": [
        "os.chdir('/content/MUDataset/creditscore_dataset')"
      ]
    },
    {
      "cell_type": "code",
      "execution_count": null,
      "metadata": {
        "id": "olZJ_bCgFzuN"
      },
      "outputs": [],
      "source": [
        "df = pd.read_csv('creditscore_dataset.csv')"
      ]
    },
    {
      "cell_type": "code",
      "execution_count": null,
      "metadata": {
        "id": "JDK9f2i8g7nq"
      },
      "outputs": [],
      "source": [
        "# dimenzionalnost seta podataka\n",
        "df.shape"
      ]
    },
    {
      "cell_type": "code",
      "execution_count": null,
      "metadata": {
        "id": "jN_cJSdwmrrN"
      },
      "outputs": [],
      "source": [
        "# broj varijabli\n",
        "numOfVariables = df.shape[1]\n",
        "numOfVariables"
      ]
    },
    {
      "cell_type": "markdown",
      "metadata": {
        "id": "69H-5Hhtmz95"
      },
      "source": [
        "1.2. Using appropriate methods, it is necessary to analyze each variable individually: variable types, distribution, descriptive statistics (mean, standard deviation, etc.), correlation between pairs of variables, etc. Visualize the data exploration process for each variable and clearly justify observations and conclusions about each variable"
      ]
    },
    {
      "cell_type": "code",
      "execution_count": null,
      "metadata": {
        "id": "Cb3Mp5Xvqm3I"
      },
      "outputs": [],
      "source": [
        "df = df.loc[:, ~df.columns.str.contains('^Unnamed')]\n",
        "df.drop([\"SSN\",\"ID\", \"Customer_ID\"], axis=1, inplace=True)"
      ]
    },
    {
      "cell_type": "markdown",
      "metadata": {
        "id": "t7TCa6MfqttH"
      },
      "source": [
        "We will remove the *Unnamed* variables, as they are just additional indices and are not important for the analysis."
      ]
    },
    {
      "cell_type": "code",
      "execution_count": null,
      "metadata": {
        "id": "5hKkg5PpsyNT"
      },
      "outputs": [],
      "source": [
        "\n",
        "df['Interest_Rate'] = df['Interest_Rate'].astype(float)\n",
        "df['Delay_from_due_date'] = df['Delay_from_due_date'].astype(int)\n",
        "df['Annual_Income'] = df['Annual_Income'].replace({'_': ''}, regex=True).astype(float)\n",
        "df['Num_Bank_Accounts'] = df['Num_Bank_Accounts'].replace({'accounts': ''}, regex=True).astype(int)\n",
        "df['Annual_Income'] = df['Annual_Income'].astype(float)\n",
        "df['Num_of_Loan'] = df['Num_of_Loan'].replace({'_': ''}, regex=True).astype(int)\n",
        "df['Outstanding_Debt'] = df['Outstanding_Debt'].replace({'_': ''}, regex=True).astype(float)\n",
        "df['Monthly_Balance'] = df['Monthly_Balance'].replace({'_': ''}, regex=True).astype(float)\n",
        "df['Amount_invested_monthly'] = df['Amount_invested_monthly'].replace({'_': ''}, regex=True).astype(float)\n",
        "df['Changed_Credit_Limit'] = df['Changed_Credit_Limit'].replace({'': np.nan, '_': np.nan}, regex=True).astype(float)\n",
        "df['Credit_History_Age'] = df['Credit_History_Age'].str.extract('(\\d+)').astype(float)\n",
        "df['Age'] = df['Name_and_Age'].str.extract('(\\d+)').astype(float)\n",
        "df = df.drop(columns=['Name_and_Age'])\n",
        "df['Num_Credit_Card'] = df['Num_Credit_Card'].str.extract('(\\d+)').astype(int)\n",
        "df['Num_of_Delayed_Payment'] = df['Num_of_Delayed_Payment'].str.extract('(\\d+)').astype(float)"
      ]
    },
    {
      "cell_type": "code",
      "execution_count": null,
      "metadata": {
        "id": "635r0gA97Cqf"
      },
      "outputs": [],
      "source": [
        "month_mapping = {\n",
        "    'January': 1, 'February': 2, 'March': 3, 'April': 4,\n",
        "    'May': 5, 'June': 6, 'July': 7, 'August': 8,\n",
        "    'September': 9, 'October': 10, 'November': 11, 'December': 12\n",
        "}\n",
        "\n",
        "df['Month'] = df['Month'].apply(lambda x: month_mapping[x] if x in month_mapping else x).astype(float)\n"
      ]
    },
    {
      "cell_type": "code",
      "execution_count": null,
      "metadata": {
        "id": "Xa9DHkPhCUaF"
      },
      "outputs": [],
      "source": [
        "# kreiranje liste varijabli koje sadrže isključivo numeričke podatke\n",
        "numerics = ['int16', 'int32', 'int64', 'float16', 'float32', 'float64']\n",
        "df_numerics = df.select_dtypes(include=numerics)\n",
        "df_numerics.head(5)\n",
        "df_numerics.dtypes"
      ]
    },
    {
      "cell_type": "code",
      "execution_count": null,
      "metadata": {
        "id": "HB_8Y0oe42MI"
      },
      "outputs": [],
      "source": [
        "df.info()"
      ]
    },
    {
      "cell_type": "markdown",
      "metadata": {
        "id": "ihImzjwT-fNh"
      },
      "source": [
        "## **Distribution and Descriptive Statistics**"
      ]
    },
    {
      "cell_type": "code",
      "execution_count": null,
      "metadata": {
        "id": "v4mxA_VEhcRv"
      },
      "outputs": [],
      "source": [
        "# deskriptivna statistika\n",
        "df.describe().T"
      ]
    },
    {
      "cell_type": "code",
      "execution_count": null,
      "metadata": {
        "id": "CfwnMyW1I1S2"
      },
      "outputs": [],
      "source": [
        "import matplotlib.pyplot as plt\n",
        "df['Month'].hist()\n",
        "plt.show()\n"
      ]
    },
    {
      "cell_type": "code",
      "execution_count": null,
      "metadata": {
        "id": "xo33a35bKHrf"
      },
      "outputs": [],
      "source": [
        "df_part1.hist()"
      ]
    },
    {
      "cell_type": "code",
      "execution_count": null,
      "metadata": {
        "id": "DPW7pZ_rutgw"
      },
      "outputs": [],
      "source": [
        "for column in df.columns:\n",
        "    if not pd.api.types.is_numeric_dtype(df[column]):\n",
        "        unique_values = df[column].str.lower().unique()\n",
        "        print(f\"Unique values in {column}: {unique_values}\")"
      ]
    },
    {
      "cell_type": "markdown",
      "metadata": {
        "id": "6aes9bjTCVdX"
      },
      "source": [
        "Printint Correlation"
      ]
    },
    {
      "cell_type": "code",
      "execution_count": null,
      "metadata": {
        "id": "W9wbMEp3CZUP"
      },
      "outputs": [],
      "source": [
        "correlation_matrix = df.corr(numeric_only=True)\n",
        "correlation_matrix"
      ]
    },
    {
      "cell_type": "code",
      "execution_count": null,
      "metadata": {
        "id": "iBBvxB2oD7b-"
      },
      "outputs": [],
      "source": [
        "# matrica korelacije\n",
        "CorrMatrix=pd.DataFrame.corr(df)\n",
        "print(CorrMatrix)"
      ]
    },
    {
      "cell_type": "code",
      "execution_count": null,
      "metadata": {
        "id": "yEtPt-YuEOYR"
      },
      "outputs": [],
      "source": [
        "# Create a larger figure\n",
        "plt.figure(figsize=(12, 10))\n",
        "\n",
        "# Create the heatmap\n",
        "sns.heatmap(CorrMatrix, annot=True, fmt='.1f', linewidths=1)\n",
        "\n",
        "# Show the plot\n",
        "plt.show()"
      ]
    },
    {
      "cell_type": "code",
      "source": [],
      "metadata": {
        "id": "VkRCZJNCsDMT"
      },
      "execution_count": null,
      "outputs": []
    },
    {
      "cell_type": "markdown",
      "metadata": {
        "id": "pk3nesX_te02"
      },
      "source": [
        "Visualisation"
      ]
    },
    {
      "cell_type": "code",
      "execution_count": null,
      "metadata": {
        "id": "ar3qF-6jxAop"
      },
      "outputs": [],
      "source": [
        "for column in df.columns:\n",
        "    if pd.api.types.is_numeric_dtype(df[column]):\n",
        "        sns.boxplot(y=df[column])\n",
        "        plt.title(column)\n",
        "        plt.show()\n"
      ]
    },
    {
      "cell_type": "code",
      "execution_count": null,
      "metadata": {
        "id": "0foHfinnB6jz"
      },
      "outputs": [],
      "source": [
        "# boxplotovi za sve numericke varijable\n",
        "for col in df_numerics:\n",
        "    plt.figure()\n",
        "    df.boxplot([col])"
      ]
    },
    {
      "cell_type": "code",
      "execution_count": null,
      "metadata": {
        "id": "hYE1Lr4syu8Z"
      },
      "outputs": [],
      "source": [
        "for column in df.columns:\n",
        "    if pd.api.types.is_numeric_dtype(df[column]):\n",
        "        plt.figure()\n",
        "        plt.title(column)\n",
        "        df[column].hist()\n",
        "        plt.show()"
      ]
    },
    {
      "cell_type": "code",
      "execution_count": null,
      "metadata": {
        "id": "Tn02J6qIDUJU"
      },
      "outputs": [],
      "source": [
        "# prikaz distribucije pomocu histograma za sve numericke kolone\n",
        "for col in df_numerics:\n",
        "    plt.figure()\n",
        "    plt.title(col)\n",
        "    df[col].hist()"
      ]
    },
    {
      "cell_type": "code",
      "execution_count": null,
      "metadata": {
        "id": "-CSqqsqjzQCA"
      },
      "outputs": [],
      "source": [
        "# prikaz distribucije pomocu histograma za sve numericke kolone\n",
        "df.hist()"
      ]
    },
    {
      "cell_type": "code",
      "execution_count": null,
      "metadata": {
        "id": "yG-Lab3d3PWZ"
      },
      "outputs": [],
      "source": [
        "for column in df.columns:\n",
        "    if pd.api.types.is_numeric_dtype(df[column]):\n",
        "        plt.figure()\n",
        "        sns.distplot(df[column], hist=True, kde=True,\n",
        "                     bins=int(180/5), color='darkblue',\n",
        "                     hist_kws={'edgecolor': 'black'},\n",
        "                     kde_kws={'linewidth': 4})\n",
        "        plt.title(f'Distribution Plot: {column}')\n",
        "        plt.show()"
      ]
    },
    {
      "cell_type": "markdown",
      "metadata": {
        "id": "1zTD1gv10FSA"
      },
      "source": [
        "###1.3. Izvršiti odgovarajuće transformacije podataka, te uklanjanje nepodobnih vrijednosti da bi dobili podatke koji su spremni za korištenje u većini metoda klasifikacije."
      ]
    },
    {
      "cell_type": "code",
      "execution_count": null,
      "metadata": {
        "id": "rfMJeLOro3F4"
      },
      "outputs": [],
      "source": [
        "df.isnull().sum() #Provjera null vrijednosti"
      ]
    },
    {
      "cell_type": "markdown",
      "metadata": {
        "id": "AAKm4PEfWE27"
      },
      "source": [
        "**Interest_Rate**"
      ]
    },
    {
      "cell_type": "code",
      "execution_count": null,
      "metadata": {
        "id": "qcg6IHrw0ReM"
      },
      "outputs": [],
      "source": [
        "skewValue = df[\"Interest_Rate\"].skew()\n",
        "print(skewValue)\n",
        "\n",
        "sns.distplot(df[\"Interest_Rate\"], hist=True, kde=True,\n",
        "             bins=int(180/5), color = 'darkblue',\n",
        "             hist_kws={'edgecolor':'black'},\n",
        "             kde_kws={'linewidth': 4})"
      ]
    },
    {
      "cell_type": "markdown",
      "metadata": {
        "id": "N0_lGO7BVTek"
      },
      "source": [
        "Za *Interest_Rate* skewness je 9.00657415991755. Ovo znači da je varijabla jako smaknuta i potrebno ju je centrirati. S obzirom na dobijene vrijednosti postoji vjerovatnoća da se u podacima nalaze i nepodobne vrijednosti (outliers)."
      ]
    },
    {
      "cell_type": "markdown",
      "metadata": {
        "id": "coGgexb_bPru"
      },
      "source": [
        "Box plot potvrđuje postojanje outlier-a."
      ]
    },
    {
      "cell_type": "markdown",
      "metadata": {
        "id": "rDlud7MXbleU"
      },
      "source": [
        "**Delay_from_due_date**"
      ]
    },
    {
      "cell_type": "code",
      "execution_count": null,
      "metadata": {
        "id": "mvI5g8Jlbnkx"
      },
      "outputs": [],
      "source": [
        "skewValue = df[\"Delay_from_due_date\"].skew()\n",
        "print(skewValue)\n",
        "\n",
        "sns.distplot(df[\"Delay_from_due_date\"], hist=True, kde=True,\n",
        "             bins=int(180/5), color = 'darkblue',\n",
        "             hist_kws={'edgecolor':'black'},\n",
        "             kde_kws={'linewidth': 4})"
      ]
    },
    {
      "cell_type": "markdown",
      "metadata": {
        "id": "UA71Ovq_cAQ-"
      },
      "source": [
        "Za *Delay_from_due_date* skewness je 0.966436421784712. Obzirom da je dobijena vrijednost manja od 1, a veća od 0.5 distribucija podataka je umjereno pomjerena u desnu stranu. Ova promjerenost neće znatno uticati na  klasifikacijski model."
      ]
    },
    {
      "cell_type": "code",
      "execution_count": null,
      "metadata": {
        "id": "7DHwN9SJbqTD"
      },
      "outputs": [],
      "source": [
        "plt.boxplot(df[\"Delay_from_due_date\"])"
      ]
    },
    {
      "cell_type": "markdown",
      "metadata": {
        "id": "v9SjCLKmfILf"
      },
      "source": [
        "**Num_Credit_Inquiries**"
      ]
    },
    {
      "cell_type": "code",
      "execution_count": null,
      "metadata": {
        "id": "HpwjZa6KfNy7"
      },
      "outputs": [],
      "source": [
        "skewValue = df[\"Num_Credit_Inquiries\"].skew()\n",
        "print(skewValue)\n",
        "\n",
        "sns.distplot(df[\"Num_Credit_Inquiries\"], hist=True, kde=True,\n",
        "             bins=int(180/5), color = 'darkblue',\n",
        "             hist_kws={'edgecolor':'black'},\n",
        "             kde_kws={'linewidth': 4})"
      ]
    },
    {
      "cell_type": "markdown",
      "metadata": {
        "id": "hlv6O9yrfjmy"
      },
      "source": [
        "Za *Num_Credit_Inquirie*s skewness je 9.787325106106184. Ovo znači da je varijabla jako smaknuta i potrebno ju je centrirati. S obzirom na dobijene vrijednosti postoji vjerovatnoća da se u podacima nalaze i nepodobne vrijednosti (outliers)."
      ]
    },
    {
      "cell_type": "code",
      "execution_count": null,
      "metadata": {
        "id": "OQRJxdk-fSEh"
      },
      "outputs": [],
      "source": [
        "plt.boxplot(df[\"Num_Credit_Inquiries\"])"
      ]
    },
    {
      "cell_type": "markdown",
      "metadata": {
        "id": "AG1XyTg905si"
      },
      "source": [
        "Num_of_Loan"
      ]
    },
    {
      "cell_type": "code",
      "execution_count": null,
      "metadata": {
        "id": "Jm4bpgd_z-tv"
      },
      "outputs": [],
      "source": [
        "skewValue = df[\"Num_of_Loan\"].skew()\n",
        "print(skewValue)\n",
        "\n",
        "sns.distplot(df[\"Num_of_Loan\"], hist=True, kde=True,\n",
        "             bins=int(180/5), color = 'darkblue',\n",
        "             hist_kws={'edgecolor':'black'},\n",
        "             kde_kws={'linewidth': 4})"
      ]
    },
    {
      "cell_type": "markdown",
      "metadata": {
        "id": "bPBf49SY1b9p"
      },
      "source": [
        "\n",
        "Skewness (sklonost) od 15.963247362616766 za varijablu \"Num_of_Loan\" ukazuje na vrlo snažnu pozitivnu asimetriju distribucije podataka. Ovo sugeriše na to da postoji značajan broj podataka s izuzetno visokim vrijednostima u varijabli \"Num_of_Loan\". Ova visoka vrijednost sklonosti može ukazivati na prisutnost ekstremnih outliersa."
      ]
    },
    {
      "cell_type": "code",
      "execution_count": null,
      "metadata": {
        "id": "DYZatN5V0zmE"
      },
      "outputs": [],
      "source": [
        "plt.boxplot(df[\"Num_of_Loan\"])"
      ]
    },
    {
      "cell_type": "markdown",
      "metadata": {
        "id": "FB-G2oas1r9K"
      },
      "source": [
        "Num_of_Delayed_Payment"
      ]
    },
    {
      "cell_type": "code",
      "execution_count": null,
      "metadata": {
        "id": "gTM_B_Ig2AWl"
      },
      "outputs": [],
      "source": [
        "skewValue = df[\"Num_of_Delayed_Payment\"].skew()\n",
        "print(skewValue)\n",
        "\n",
        "sns.distplot(df[\"Num_of_Delayed_Payment\"], hist=True, kde=True,\n",
        "             bins=int(180/5), color = 'darkblue',\n",
        "             hist_kws={'edgecolor':'black'},\n",
        "             kde_kws={'linewidth': 4})"
      ]
    },
    {
      "cell_type": "markdown",
      "metadata": {
        "id": "XP_9staT2Sb5"
      },
      "source": [
        "Sklonost (skewness) od 14.314992438316954 za varijablu \"Num_of_Delayed_Payment\" ukazuje na vrlo snažnu pozitivnu asimetriju distribucije podataka. Ova visoka pozitivna sklonost sugeriše da postoji značajan broj podataka s izuzetno visokim vrijednostima, a rep distribucije proteže se jako udesno."
      ]
    },
    {
      "cell_type": "code",
      "execution_count": null,
      "metadata": {
        "id": "wQWj0-T-2RVh"
      },
      "outputs": [],
      "source": [
        "plt.boxplot(df[\"Num_of_Delayed_Payment\"])"
      ]
    },
    {
      "cell_type": "markdown",
      "metadata": {
        "id": "eBf3ZeQh2f3C"
      },
      "source": [
        "Changed_Credit_Limit"
      ]
    },
    {
      "cell_type": "code",
      "execution_count": null,
      "metadata": {
        "id": "xluXhzCi2g76"
      },
      "outputs": [],
      "source": [
        "skewValue = df[\"Changed_Credit_Limit\"].skew()\n",
        "print(skewValue)\n",
        "\n",
        "sns.distplot(df[\"Changed_Credit_Limit\"], hist=True, kde=True,\n",
        "             bins=int(180/5), color = 'darkblue',\n",
        "             hist_kws={'edgecolor':'black'},\n",
        "             kde_kws={'linewidth': 4})"
      ]
    },
    {
      "cell_type": "markdown",
      "metadata": {
        "id": "99tKVziD2qql"
      },
      "source": [
        "Sklonost (skewness) od 0.6388058269081704 za varijablu \"Changed_Credit_Limit\" ukazuje na blagu pozitivnu asimetriju distribucije podataka. Skewness vrijednost blizu nule ukazuje na to da distribucija ima manje izraženu asimetriju, ali i dalje postoji nešto više podataka s višim vrijednostima."
      ]
    },
    {
      "cell_type": "code",
      "execution_count": null,
      "metadata": {
        "id": "UUR-I22w2rty"
      },
      "outputs": [],
      "source": [
        "plt.boxplot(df[\"Changed_Credit_Limit\"])"
      ]
    },
    {
      "cell_type": "markdown",
      "metadata": {
        "id": "M-_zBpiTavzb"
      },
      "source": [
        "Credit_History_Age"
      ]
    },
    {
      "cell_type": "code",
      "execution_count": null,
      "metadata": {
        "id": "d4Yy6iPjawvv"
      },
      "outputs": [],
      "source": [
        "skewValue = df[\"Credit_History_Age\"].skew()\n",
        "print(skewValue)\n",
        "\n",
        "sns.distplot(df[\"Credit_History_Age\"], hist=True, kde=True,\n",
        "             bins=int(180/5), color = 'darkblue',\n",
        "             hist_kws={'edgecolor':'black'},\n",
        "             kde_kws={'linewidth': 4})"
      ]
    },
    {
      "cell_type": "markdown",
      "metadata": {
        "id": "TQfXq662bL4q"
      },
      "source": [
        "Sklonost (skewness) od -0.04746057453526007 za varijablu \"Credit_History_Age\" ukazuje na blagu negativnu asimetriju distribucije podataka. Sklonost blizu nule ukazuje na to da distribucija ima malo izraženu asimetriju, i to je blago nagnuta ulijevo. Negativna sklonost znači da ima nešto više podataka s nižim vrijednostima, ali razlika nije velika."
      ]
    },
    {
      "cell_type": "code",
      "execution_count": null,
      "metadata": {
        "id": "vHXQSsehbUtt"
      },
      "outputs": [],
      "source": [
        "plt.boxplot(df[\"Credit_History_Age\"])"
      ]
    },
    {
      "cell_type": "markdown",
      "metadata": {
        "id": "LVnUBOkMbeNe"
      },
      "source": [
        "Num_Bank_Accounts"
      ]
    },
    {
      "cell_type": "code",
      "execution_count": null,
      "metadata": {
        "id": "dKAsOSYibflI"
      },
      "outputs": [],
      "source": [
        "skewValue = df[\"Num_Bank_Accounts\"].skew()\n",
        "print(skewValue)\n",
        "\n",
        "sns.distplot(df[\"Num_Bank_Accounts\"], hist=True, kde=True,\n",
        "             bins=int(180/5), color = 'darkblue',\n",
        "             hist_kws={'edgecolor':'black'},\n",
        "             kde_kws={'linewidth': 4})"
      ]
    },
    {
      "cell_type": "markdown",
      "metadata": {
        "id": "U_BWAdI4b6zE"
      },
      "source": [
        "Sklonost (skewness) od 11.203742350355634 za varijablu \"Num_Bank_Accounts\" ukazuje na vrlo snažnu pozitivnu asimetriju distribucije podataka. Visoka pozitivna sklonost sugerira da postoji značajan broj podataka s izuzetno visokim vrijednostima, a rep distribucije proteže se jako udesno."
      ]
    },
    {
      "cell_type": "code",
      "execution_count": null,
      "metadata": {
        "id": "wH3j1Nbfb6XH"
      },
      "outputs": [],
      "source": [
        "plt.boxplot(df[\"Num_Bank_Accounts\"])"
      ]
    },
    {
      "cell_type": "markdown",
      "metadata": {
        "id": "W3BQHxGZcGQv"
      },
      "source": [
        "Annual_Income"
      ]
    },
    {
      "cell_type": "code",
      "execution_count": null,
      "metadata": {
        "id": "Cq3k9xqfcIj1"
      },
      "outputs": [],
      "source": [
        "skewValue = df[\"Annual_Income\"].skew()\n",
        "print(skewValue)\n",
        "\n",
        "sns.distplot(df[\"Annual_Income\"], hist=True, kde=True,\n",
        "             bins=int(180/5), color = 'darkblue',\n",
        "             hist_kws={'edgecolor':'black'},\n",
        "             kde_kws={'linewidth': 4})"
      ]
    },
    {
      "cell_type": "markdown",
      "metadata": {
        "id": "CI2TF9BmcTW3"
      },
      "source": [
        "Sklonost (skewness) od 12.513572248885364 za varijablu \"Annual_Income\" ukazuje na vrlo snažnu pozitivnu asimetriju distribucije podataka. Ova visoka pozitivna sklonost sugerira da postoji značajan broj podataka s izuzetno visokim vrijednostima, a rep distribucije proteže se jako udesno."
      ]
    },
    {
      "cell_type": "code",
      "execution_count": null,
      "metadata": {
        "id": "BLRp-P0dcWp5"
      },
      "outputs": [],
      "source": [
        "plt.boxplot(df[\"Annual_Income\"])"
      ]
    },
    {
      "cell_type": "code",
      "source": [
        "skewValue = df[\"Month\"].skew()\n",
        "print(skewValue)\n",
        "\n",
        "sns.distplot(df[\"Month\"], hist=True, kde=True,\n",
        "             bins=int(180/5), color = 'darkblue',\n",
        "             hist_kws={'edgecolor':'black'},\n",
        "             kde_kws={'linewidth': 4})"
      ],
      "metadata": {
        "id": "21QZIyE-DRE_"
      },
      "execution_count": null,
      "outputs": []
    },
    {
      "cell_type": "markdown",
      "source": [
        "Sklonost (skewness) od 0.1380089133993904 za varijablu \"Month\" ukazuje na blagu pozitivnu asimetriju distribucije podataka. Sklonost blizu nule sugeriše da distribucija ima vrlo malu izraženu asimetriju i da je relativno simetrična ili blago nagnuta udesno."
      ],
      "metadata": {
        "id": "0nOL2CwjDHr1"
      }
    },
    {
      "cell_type": "code",
      "source": [
        "plt.boxplot(df[\"Month\"])"
      ],
      "metadata": {
        "id": "8jSeFY5wDnIw"
      },
      "execution_count": null,
      "outputs": []
    },
    {
      "cell_type": "code",
      "source": [
        "skewValue = df[\"Credit_Utilization_Ratio\"].skew()\n",
        "print(skewValue)\n",
        "\n",
        "sns.distplot(df[\"Credit_Utilization_Ratio\"], hist=True, kde=True,\n",
        "             bins=int(180/5), color = 'darkblue',\n",
        "             hist_kws={'edgecolor':'black'},\n",
        "             kde_kws={'linewidth': 4})"
      ],
      "metadata": {
        "id": "32RJOFQ7D6Pz"
      },
      "execution_count": null,
      "outputs": []
    },
    {
      "cell_type": "markdown",
      "source": [
        "Sklonost (skewness) od 0.028708038043818277 za varijablu \"Credit_Utilization_Ratio\" ukazuje na vrlo malu pozitivnu asimetriju distribucije podataka. Sklonost blizu nule sugerira da distribucija ima vrlo malu izraženu asimetriju i da je relativno simetrična."
      ],
      "metadata": {
        "id": "zGBF72-aDRUK"
      }
    },
    {
      "cell_type": "code",
      "source": [
        "plt.boxplot(df[\"Credit_Utilization_Ratio\"])"
      ],
      "metadata": {
        "id": "B_cOmfIQENMZ"
      },
      "execution_count": null,
      "outputs": []
    },
    {
      "cell_type": "code",
      "source": [
        "skewValue = df[\"Outstanding_Debt\"].skew()\n",
        "print(skewValue)\n",
        "\n",
        "sns.distplot(df[\"Outstanding_Debt\"], hist=True, kde=True,\n",
        "             bins=int(180/5), color = 'darkblue',\n",
        "             hist_kws={'edgecolor':'black'},\n",
        "             kde_kws={'linewidth': 4})"
      ],
      "metadata": {
        "id": "etEtawR9EbZv"
      },
      "execution_count": null,
      "outputs": []
    },
    {
      "cell_type": "code",
      "source": [
        "plt.boxplot(df[\"Outstanding_Debt\"])"
      ],
      "metadata": {
        "id": "eObFAO4BEtcs"
      },
      "execution_count": null,
      "outputs": []
    },
    {
      "cell_type": "code",
      "source": [
        "skewValue = df[\"Total_EMI_per_month\"].skew()\n",
        "print(skewValue)\n",
        "\n",
        "sns.distplot(df[\"Total_EMI_per_month\"], hist=True, kde=True,\n",
        "             bins=int(180/5), color = 'darkblue',\n",
        "             hist_kws={'edgecolor':'black'},\n",
        "             kde_kws={'linewidth': 4})"
      ],
      "metadata": {
        "id": "X_h6RmKFFB_A"
      },
      "execution_count": null,
      "outputs": []
    },
    {
      "cell_type": "markdown",
      "source": [
        "\n",
        "Sklonost (skewness) od 7.101565437178335 za varijablu \"Total_EMI_per_month\" ukazuje na vrlo snažnu pozitivnu asimetriju distribucije podataka. Visoka pozitivna sklonost sugerira da postoji značajan broj podataka s izuzetno visokim vrijednostima, a rep distribucije proteže se jako udesno."
      ],
      "metadata": {
        "id": "vgGjR-dwDrPP"
      }
    },
    {
      "cell_type": "code",
      "source": [
        "plt.boxplot(df[\"Total_EMI_per_month\"])"
      ],
      "metadata": {
        "id": "Kd-DQIlVFQZu"
      },
      "execution_count": null,
      "outputs": []
    },
    {
      "cell_type": "code",
      "source": [
        "skewValue = df[\"Age\"].skew()\n",
        "print(skewValue)\n",
        "\n",
        "sns.distplot(df[\"Age\"], hist=True, kde=True,\n",
        "             bins=int(180/5), color = 'darkblue',\n",
        "             hist_kws={'edgecolor':'black'},\n",
        "             kde_kws={'linewidth': 4})"
      ],
      "metadata": {
        "id": "9vjNkvDMFgmn"
      },
      "execution_count": null,
      "outputs": []
    },
    {
      "cell_type": "markdown",
      "source": [
        "\n",
        "Sklonost (skewness) od 9.158441780491142 za varijablu \"Age\" ukazuje na izraženu pozitivnu asimetriju distribucije podataka. Visoka pozitivna sklonost sugeriše na prisutnost značajnog broja podataka s ekstremno visokim vrijednostima, što rezultira izduženim repom distribucije prema desno."
      ],
      "metadata": {
        "id": "Wpfl7oXID2Th"
      }
    },
    {
      "cell_type": "code",
      "source": [
        "plt.boxplot(df[\"Age\"])"
      ],
      "metadata": {
        "id": "_Ni0W4l-FrKB"
      },
      "execution_count": null,
      "outputs": []
    },
    {
      "cell_type": "code",
      "source": [
        "skewValue = df[\"Amount_invested_monthly\"].skew()\n",
        "print(skewValue)\n",
        "\n",
        "sns.distplot(df[\"Amount_invested_monthly\"], hist=True, kde=True,\n",
        "             bins=int(180/5), color = 'darkblue',\n",
        "             hist_kws={'edgecolor':'black'},\n",
        "             kde_kws={'linewidth': 4})"
      ],
      "metadata": {
        "id": "l4CUv7shGfXf"
      },
      "execution_count": null,
      "outputs": []
    },
    {
      "cell_type": "markdown",
      "source": [
        "\n",
        "Sklonost (skewness) od 4.322994412190306 za varijablu \"Amount_invested_monthly\" ukazuje na značajnu pozitivnu asimetriju distribucije podataka. Visoka pozitivna sklonost sugerira da postoji značajan broj podataka s izuzetno visokim vrijednostima, a rep distribucije proteže se jako udesno."
      ],
      "metadata": {
        "id": "BpY7-iLND-zU"
      }
    },
    {
      "cell_type": "code",
      "source": [
        "plt.boxplot(df[\"Amount_invested_monthly\"])"
      ],
      "metadata": {
        "id": "SfROiwH6GsB5"
      },
      "execution_count": null,
      "outputs": []
    },
    {
      "cell_type": "code",
      "source": [
        "skewValue = df[\"Monthly_Balance\"].skew()\n",
        "print(skewValue)\n",
        "\n",
        "sns.distplot(df[\"Monthly_Balance\"], hist=True, kde=True,\n",
        "             bins=int(180/5), color = 'darkblue',\n",
        "             hist_kws={'edgecolor':'black'},\n",
        "             kde_kws={'linewidth': 4})"
      ],
      "metadata": {
        "id": "TVgVxvBsG4Nq"
      },
      "execution_count": null,
      "outputs": []
    },
    {
      "cell_type": "markdown",
      "source": [
        "\n",
        "Sklonost (skewness) od -104.77383053300677 za varijablu \"Monthly_Balance\" ukazuje na ekstremnu negativnu asimetriju distribucije podataka. Negativna sklonost ove magnitude sugerira da postoji značajan broj podataka s izuzetno niskim vrijednostima, a rep distribucije proteže se jako ulijevo."
      ],
      "metadata": {
        "id": "Dw0lN8KYEHWs"
      }
    },
    {
      "cell_type": "code",
      "source": [
        "plt.boxplot(df[\"Monthly_Balance\"])"
      ],
      "metadata": {
        "id": "vKKu5UURHEr9"
      },
      "execution_count": null,
      "outputs": []
    },
    {
      "cell_type": "markdown",
      "source": [
        "Monthly_Inhand_Salary"
      ],
      "metadata": {
        "id": "WD_e1i3HEynB"
      }
    },
    {
      "cell_type": "code",
      "source": [
        "skewValue = df[\"Monthly_Inhand_Salary\"].skew()\n",
        "print(skewValue)\n",
        "\n",
        "sns.distplot(df[\"Monthly_Inhand_Salary\"], hist=True, kde=True,\n",
        "             bins=int(180/5), color = 'darkblue',\n",
        "             hist_kws={'edgecolor':'black'},\n",
        "             kde_kws={'linewidth': 4})"
      ],
      "metadata": {
        "id": "MLr3eE8VEY8u"
      },
      "execution_count": null,
      "outputs": []
    },
    {
      "cell_type": "markdown",
      "source": [
        "\n",
        "Sklonost (skewness) od 1.1273598967156109 za varijablu \"Monthly_Inhand_Salary\" ukazuje na značajnu pozitivnu asimetriju distribucije podataka. Ova visoka pozitivna sklonost sugerira da postoji značajan broj podataka s izuzetno visokim vrijednostima, a rep distribucije proteže se prema većim iznosima."
      ],
      "metadata": {
        "id": "iUbQLB9-FMV4"
      }
    },
    {
      "cell_type": "code",
      "source": [
        "plt.boxplot(df[\"Monthly_Inhand_Salary\"])"
      ],
      "metadata": {
        "id": "O27e7E4kExHG"
      },
      "execution_count": null,
      "outputs": []
    },
    {
      "cell_type": "markdown",
      "source": [
        "Num_Credit_Card"
      ],
      "metadata": {
        "id": "df3Fb3xmFRBT"
      }
    },
    {
      "cell_type": "code",
      "source": [
        "skewValue = df[\"Num_Credit_Card\"].skew()\n",
        "print(skewValue)\n",
        "\n",
        "sns.distplot(df[\"Num_Credit_Card\"], hist=True, kde=True,\n",
        "             bins=int(180/5), color = 'darkblue',\n",
        "             hist_kws={'edgecolor':'black'},\n",
        "             kde_kws={'linewidth': 4})"
      ],
      "metadata": {
        "id": "qhpD709iFRZ0"
      },
      "execution_count": null,
      "outputs": []
    },
    {
      "cell_type": "markdown",
      "source": [
        "Sklonost (skewness) od 8.458984810230154 za varijablu \"Num_Credit_Card\" ukazuje na vrlo snažnu pozitivnu asimetriju distribucije podataka. Visoka pozitivna sklonost sugerira da postoji značajan broj podataka s izuzetno visokim vrijednostima, a rep distribucije proteže se jako udesno."
      ],
      "metadata": {
        "id": "H1IF-YrLFcdV"
      }
    },
    {
      "cell_type": "code",
      "source": [
        "plt.boxplot(df[\"Num_Credit_Card\"])"
      ],
      "metadata": {
        "id": "2zLtGYt8FeAa"
      },
      "execution_count": null,
      "outputs": []
    },
    {
      "cell_type": "markdown",
      "metadata": {
        "id": "pmdDryar45SC"
      },
      "source": [
        "#Null vrijednosti"
      ]
    },
    {
      "cell_type": "code",
      "execution_count": null,
      "metadata": {
        "id": "t-zPpyzEPxYr"
      },
      "outputs": [],
      "source": [
        "import matplotlib.pyplot as plt\n",
        "import missingno as msno\n",
        "\n",
        "plt.figure(figsize=(10, 8))\n",
        "msno.matrix(df)\n",
        "plt.show()\n"
      ]
    },
    {
      "cell_type": "code",
      "execution_count": null,
      "metadata": {
        "id": "cQI9WCNRQq4v"
      },
      "outputs": [],
      "source": [
        "# Missing value correlation map\n",
        "plt.figure(figsize=(8,6))\n",
        "msno.heatmap(df)\n",
        "plt.show()"
      ]
    },
    {
      "cell_type": "code",
      "source": [
        "df.isnull().sum()"
      ],
      "metadata": {
        "id": "OmfcPjKO_Ic8"
      },
      "execution_count": null,
      "outputs": []
    },
    {
      "cell_type": "code",
      "execution_count": null,
      "metadata": {
        "id": "3VE7-JbBWHyB"
      },
      "outputs": [],
      "source": [
        "df[\"Type_of_Loan\"]"
      ]
    },
    {
      "cell_type": "markdown",
      "metadata": {
        "id": "DfW5AEELTbWp"
      },
      "source": [
        "Numericke"
      ]
    },
    {
      "cell_type": "code",
      "execution_count": null,
      "metadata": {
        "id": "q1wgDfhWSVRb"
      },
      "outputs": [],
      "source": [
        "categorical_columns = [\"Payment_Behaviour\", \"Occupation\", \"Credit_Mix\"]\n",
        "\n",
        "df[categorical_columns] = df[categorical_columns].fillna(df[categorical_columns].mode().iloc[0])\n",
        "\n",
        "df.isnull().sum()\n"
      ]
    },
    {
      "cell_type": "code",
      "source": [
        "\n",
        "df.isnull().sum()"
      ],
      "metadata": {
        "id": "I7cPFFjYH_hO"
      },
      "execution_count": null,
      "outputs": []
    },
    {
      "cell_type": "code",
      "execution_count": null,
      "metadata": {
        "id": "ZBVVrZN1TqYQ"
      },
      "outputs": [],
      "source": [
        "\n",
        "numerical_columns = [\"Age\", \"Monthly_Inhand_Salary\", \"Num_Bank_Accounts\", \"Num_of_Loan\",\n",
        "                     \"Num_of_Delayed_Payment\", \"Changed_Credit_Limit\", \"Num_Credit_Inquiries\",\n",
        "                     \"Credit_History_Age\", \"Amount_invested_monthly\", \"Monthly_Balance\"]\n",
        "\n",
        "df[numerical_columns] = df[numerical_columns].fillna(df[numerical_columns].median())\n",
        "\n",
        "df.isnull().sum()\n"
      ]
    },
    {
      "cell_type": "code",
      "source": [
        "df.head()"
      ],
      "metadata": {
        "id": "yt-buaImHYUH"
      },
      "execution_count": null,
      "outputs": []
    },
    {
      "cell_type": "code",
      "execution_count": null,
      "metadata": {
        "id": "xK2F_e7hWAjh"
      },
      "outputs": [],
      "source": [
        "df.info()"
      ]
    },
    {
      "cell_type": "markdown",
      "metadata": {
        "id": "TlQTw1mV8DBr"
      },
      "source": [
        "#Editovanje vrijednosti"
      ]
    },
    {
      "cell_type": "code",
      "execution_count": null,
      "metadata": {
        "id": "cB6JuaHp8CIs"
      },
      "outputs": [],
      "source": [
        "df['Payment_of_Min_Amount'].replace(\"NM\",\"No\",inplace=True)\n",
        "df[\"Payment_of_Min_Amount\"]=df[\"Payment_of_Min_Amount\"].replace(\"True\",\"Yes\")"
      ]
    },
    {
      "cell_type": "code",
      "execution_count": null,
      "metadata": {
        "id": "E6P5xxnk8y8E"
      },
      "outputs": [],
      "source": [
        "df[\"Occupation\"] = df[\"Occupation\"].str.upper()\n",
        "df[\"Occupation\"]=df[\"Occupation\"].replace(\"_______\",np.nan)"
      ]
    },
    {
      "cell_type": "code",
      "execution_count": null,
      "metadata": {
        "id": "uvXKHOq59J3K"
      },
      "outputs": [],
      "source": [
        "df[\"Credit_Mix\"]=df[\"Credit_Mix\"].replace(\"_\",np.nan)"
      ]
    },
    {
      "cell_type": "code",
      "execution_count": null,
      "metadata": {
        "id": "WxOIdHBEOsHf"
      },
      "outputs": [],
      "source": [
        "df[\"Payment_Behaviour\"]=df[\"Payment_Behaviour\"].replace(\"!@9#%8\",np.nan)"
      ]
    },
    {
      "cell_type": "code",
      "execution_count": null,
      "metadata": {
        "id": "CB-x_p5sO2d2"
      },
      "outputs": [],
      "source": [
        "df[\"Payment_Behaviour\"].value_counts()"
      ]
    },
    {
      "cell_type": "code",
      "source": [
        "\n",
        "vrijednost={\n",
        "    True:1,\n",
        "    False:0\n",
        "}\n",
        "\n",
        "df[\"Type_of_Loan\"].fillna(\"\", inplace=True)\n",
        "for i in df[\"Type_of_Loan\"].value_counts().head(9).index[2:]:\n",
        "    df[i] = df[\"Type_of_Loan\"].str.lower().str.contains(i.lower()).map(vrijednost)\n",
        "\n",
        "\n",
        "\n"
      ],
      "metadata": {
        "id": "UwN3JJyjEzm7"
      },
      "execution_count": null,
      "outputs": []
    },
    {
      "cell_type": "code",
      "source": [
        "df = pd.read_csv('creditscore_dataset.csv')"
      ],
      "metadata": {
        "id": "rV8ikk8-GEVh"
      },
      "execution_count": null,
      "outputs": []
    },
    {
      "cell_type": "code",
      "source": [
        "df[\"Type_of_Loan\"].fillna(\"\", inplace=True)"
      ],
      "metadata": {
        "id": "HV1dDWYNGQrZ"
      },
      "execution_count": null,
      "outputs": []
    },
    {
      "cell_type": "code",
      "source": [
        "df[\"Type_of_Loan\"].value_counts().head(9).index[1:]"
      ],
      "metadata": {
        "id": "ZWxeBUdWEtzP"
      },
      "execution_count": null,
      "outputs": []
    },
    {
      "cell_type": "markdown",
      "metadata": {
        "id": "CShbDT_A48wG"
      },
      "source": [
        "#Outlieri"
      ]
    },
    {
      "cell_type": "code",
      "source": [
        "numeric_columns = df.select_dtypes(include='number')\n",
        "Q1 = numeric_columns.quantile(0.25)\n",
        "Q3 = numeric_columns.quantile(0.75)\n",
        "IQR = Q3 - Q1\n",
        "outliers = ((numeric_columns < (Q1 - 1.5 * IQR)) | (numeric_columns > (Q3 + 1.5 * IQR))).any(axis=1)\n"
      ],
      "metadata": {
        "id": "6R9bUyzkI9fn"
      },
      "execution_count": null,
      "outputs": []
    },
    {
      "cell_type": "code",
      "source": [
        "z_scores = (numeric_columns - numeric_columns.mean()) / numeric_columns.std()"
      ],
      "metadata": {
        "id": "BIw1J-52JMWq"
      },
      "execution_count": null,
      "outputs": []
    },
    {
      "cell_type": "code",
      "source": [
        "outliers = (z_scores.abs() > 3).any(axis=1) #samnjivanjem granice u ifu se oduzima veći broj outliera"
      ],
      "metadata": {
        "id": "K8xVctcKJOq5"
      },
      "execution_count": null,
      "outputs": []
    },
    {
      "cell_type": "code",
      "source": [
        "numeric_columns = df.select_dtypes(include='number')"
      ],
      "metadata": {
        "id": "LkGl1eqnKJHw"
      },
      "execution_count": null,
      "outputs": []
    },
    {
      "cell_type": "code",
      "source": [
        "def ouitlier_thresholds(df, col_name, low_quantile=0.25, up_quantile=0.75):\n",
        "    Q1=df[col_name].quantile(low_quantile)\n",
        "    Q3=df[col_name].quantile(up_quantile)\n",
        "    IQR=Q3-Q1\n",
        "    low_limit=Q1-1.5*IQR\n",
        "    up_limit=Q3+1.5*IQR\n",
        "    return low_limit, up_limit\n",
        "\n",
        "def check_outlier(dataframe, col_name):\n",
        "    low_limit, up_limit = ouitlier_thresholds(dataframe,col_name)\n",
        "    if dataframe[(dataframe[col_name] > up_limit) | (dataframe[col_name] < low_limit)].any(axis=None):\n",
        "        return True\n",
        "    else:\n",
        "        return False\n",
        "\n",
        "for col in numeric_columns:\n",
        "    print(col, check_outlier(df,col))"
      ],
      "metadata": {
        "id": "3h1KEYRwKERD"
      },
      "execution_count": null,
      "outputs": []
    },
    {
      "cell_type": "code",
      "source": [
        "df.hist()"
      ],
      "metadata": {
        "id": "3Fj3QUqdLy3P"
      },
      "execution_count": null,
      "outputs": []
    },
    {
      "cell_type": "code",
      "source": [
        "\n",
        "def replace_with_thresholds(dataframe, variable):\n",
        "    low_limit, up_limit = ouitlier_thresholds(dataframe, variable)\n",
        "    dataframe.loc[(dataframe[variable] < low_limit), variable] = dataframe[variable].median()\n",
        "    dataframe.loc[(dataframe[variable] > up_limit), variable] = dataframe[variable].median()\n",
        "\n",
        "for col in numeric_columns:\n",
        "    print(col, replace_with_thresholds(df,col))"
      ],
      "metadata": {
        "id": "9MX-IDYFLAeP"
      },
      "execution_count": null,
      "outputs": []
    }
  ],
  "metadata": {
    "colab": {
      "provenance": [],
      "include_colab_link": true
    },
    "kernelspec": {
      "display_name": "Python 3",
      "name": "python3"
    },
    "language_info": {
      "name": "python"
    }
  },
  "nbformat": 4,
  "nbformat_minor": 0
}